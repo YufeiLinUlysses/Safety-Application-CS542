{
 "cells": [
  {
   "cell_type": "code",
   "execution_count": 1,
   "metadata": {},
   "outputs": [],
   "source": [
    "# written by Jingfeng Xia, jxia@wpi.edu\n",
    "\n",
    "import preprocess\n",
    "import LR\n",
    "import train_test as TT\n",
    "import sklearn.model_selection as ms\n",
    "import numpy as np\n",
    "import math"
   ]
  },
  {
   "cell_type": "code",
   "execution_count": 8,
   "metadata": {},
   "outputs": [
    {
     "name": "stdout",
     "output_type": "stream",
     "text": [
      "(5000, 6) (5000,)\n"
     ]
    }
   ],
   "source": [
    "# get 5000 rows of cleansed data\n",
    "# X feature: MONTH,DAY_OF_WEEK,HOUR,DISTRICT(1:12),LATITUDE-36,LONGTITUDE+78\n",
    "# Y label: DANGER(1,2,3)->low,medium, high\n",
    "(X,Y)= preprocess.split(5000)\n",
    "print(X.shape,Y.shape)"
   ]
  },
  {
   "cell_type": "code",
   "execution_count": 11,
   "metadata": {},
   "outputs": [
    {
     "name": "stdout",
     "output_type": "stream",
     "text": [
      "W: [[ 0.3023094   1.68100645  0.18880605  0.54295963 -3.14981229  3.95135809]\n",
      " [-0.09151957  0.1976844   1.41351156 -0.11706654 -2.6404129   2.49954453]\n",
      " [ 0.42779721  0.34107562  0.72678778 -0.24773261  6.55346841 -5.43945771]]\n",
      "b: [[ 0.81070234]\n",
      " [ 1.47466649]\n",
      " [-0.2031233 ]]\n"
     ]
    }
   ],
   "source": [
    "# get training set and test set\n",
    "train_x, test_x, train_y, test_y = \\\n",
    "    ms.train_test_split(X, Y, test_size=0.2, random_state=7) # training:test = 8:2\n",
    "# print(train_x.shape, test_x.shape, train_y.shape, test_y.shape)\n",
    "\n",
    "# alpha, n_epoch can be tuned\n",
    "W,b = TT.train(np.mat(train_x), train_y, alpha=0.03, n_epoch=100)\n",
    "# get W,b for further use\n",
    "print(\"W:\",W)\n",
    "print(\"b:\",b)\n",
    "Y_tr,P_tr = TT.predict(np.mat(train_x), W, b)\n",
    "Y_te,P_te = TT.predict(np.mat(test_x), W, b)"
   ]
  },
  {
   "cell_type": "code",
   "execution_count": 4,
   "metadata": {},
   "outputs": [
    {
     "name": "stdout",
     "output_type": "stream",
     "text": [
      "(4000,)\n"
     ]
    }
   ],
   "source": [
    "print(Y.shape)"
   ]
  },
  {
   "cell_type": "code",
   "execution_count": 12,
   "metadata": {},
   "outputs": [
    {
     "name": "stdout",
     "output_type": "stream",
     "text": [
      "train accuracy: 0.42825\n",
      "test accuracy: 0.421\n"
     ]
    }
   ],
   "source": [
    "train_acc = TT.accuracy(train_y,Y_tr)\n",
    "print(\"train accuracy:\",train_acc)\n",
    "test_acc = TT.accuracy(train_y,Y_te)\n",
    "print(\"test accuracy:\",test_acc)"
   ]
  },
  {
   "cell_type": "code",
   "execution_count": null,
   "metadata": {},
   "outputs": [],
   "source": [
    "\n",
    "\n",
    "\n",
    "train_acc = TT.accuracy(train_y,Y)\n",
    "print(\"test accuracy:\",test_acc,\"train accuracy:\",train_acc)"
   ]
  }
 ],
 "metadata": {
  "kernelspec": {
   "display_name": "Python 3",
   "language": "python",
   "name": "python3"
  },
  "language_info": {
   "codemirror_mode": {
    "name": "ipython",
    "version": 3
   },
   "file_extension": ".py",
   "mimetype": "text/x-python",
   "name": "python",
   "nbconvert_exporter": "python",
   "pygments_lexer": "ipython3",
   "version": "3.7.7"
  }
 },
 "nbformat": 4,
 "nbformat_minor": 4
}
