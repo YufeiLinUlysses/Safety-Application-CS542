{
 "cells": [
  {
   "cell_type": "code",
   "execution_count": 1,
   "metadata": {},
   "outputs": [
    {
     "name": "stdout",
     "output_type": "stream",
     "text": [
      "<class 'numpy.matrix'>\n"
     ]
    }
   ],
   "source": [
    "import train_test as TT\n",
    "import numpy as np\n",
    "\n",
    "\n",
    "DAY_OF_WEEK = {\"MONDAY\":1,\"TUESDAY\":2,\"WEDNESDAY\":3,\"THURSDAY\":4,\"FRIDAY\":5,\"SATURDAY\":6,\"SUNDAY\":7}\n",
    "# DISTRICT = {\"A1\":1,\"A15\":2,\"A7\":3,\"B2\":4,\"B3\":5,\"C11\":6,\"C6\":7,\"D14\":8,\"D4\":9,\"E13\":10,\"E18\":11,\"E5\":12}\n",
    "# data_num = 20000\n",
    "# alpha = 0.02\n",
    "# n_epoch = 50\n",
    "# train accuracy: 0.467625\n",
    "# test accuracy: 0.474\n",
    "\n",
    "W = np.mat([[0.70589358, 0.57894807, 0.57555195, 0.64646587, 0.45634837],\n",
    " [0.69749017, 0.56445017, 0.38924738, 0.67382041, 0.68272357],\n",
    " [0.67179093, 0.5696221, 0.65087029, 0.95102331, 0.32250566]])\n",
    "b = np.mat([[0.4704748],\n",
    " [0.83051006],\n",
    " [-0.48455419]])\n",
    "\n",
    "# X feature: MONTH, DAY_OF_WEEK, HOUR, LATITUDE-36, LONGTITUDE+78\n",
    "raw_input = np.array([[\"4\",\"SATURDAY\",\"23\",\"42.30540715\",\"-71.06547135\"],\n",
    "                 [\"9\",\"SUNDAY\",\"19\",\"42.30021944\",\"-71.06311002\"],\n",
    "                 [\"2\",\"WEDNESDAY\",\"12\",\"42.34044966\",\"-71.08845935\"],\n",
    "                 [\"5\",\"THURSDAY\",\"20\",\"42.2330858\",\"-71.12815697\"],\n",
    "                 [\"6\",\"SUNDAY\",\"2\",\"42.34455947\",\"-71.14890849\"],\n",
    "                 [\"1\",\"WEDNESDAY\",\"8\",\"42.35241815\",\"-71.06525499\"],\n",
    "                 [\"3\",\"FRIDAY\",\"3\",\"42.32866284\",\"-71.08563401\"],\n",
    "                 [\"10\",\"WEDNESDAY\",\"0\",\"42.32866284\",\"-71.08563401\"],\n",
    "                [\"7\",\"FRIDAY\",\"22\",\"42.23649723\",\"-71.12935123\"]])\n",
    "for i in range(0,raw_input.shape[0]):    \n",
    "    raw_input[i,1] = DAY_OF_WEEK[raw_input[i,1]]\n",
    "#     raw_input[i,3] = DISTRICT[raw_input[i,3]]\n",
    "input = np.mat(raw_input.astype(np.float))"
   ]
  },
  {
   "cell_type": "code",
   "execution_count": 2,
   "metadata": {},
   "outputs": [
    {
     "name": "stdout",
     "output_type": "stream",
     "text": [
      "[[-0.78815137  1.0443219   1.54751675 -0.53346827  0.5828166 ]\n",
      " [ 0.73853113  1.5527304   0.90966997 -0.69681712  0.66316031]\n",
      " [-1.39882437 -0.4809036  -0.2065619   0.56993839 -0.19934478]\n",
      " [-0.48281487  0.0275049   1.06913167 -2.81069838 -1.5500471 ]\n",
      " [-0.17747837  1.5527304  -1.80117885  0.69934669 -2.25611277]\n",
      " [-1.70416086 -0.4809036  -0.84440868  0.94679814  0.5901782 ]\n",
      " [-1.09348787  0.5359134  -1.64171715  0.198799   -0.10321324]\n",
      " [ 1.04386763 -0.4809036  -2.12010224  0.198799   -0.10321324]\n",
      " [ 0.12785813  0.5359134   1.38805506 -2.70328043 -1.59068152]]\n"
     ]
    }
   ],
   "source": [
    "# z_score with mean, std from big data\n",
    "input = input.T\n",
    "mean = [6.581255,3.9459,13.29537,42.322349287354555,-71.0826005364158]\n",
    "std = [3.275075209056275,1.9669222633342682,6.271098513267034,0.03175847257436829,0.02939035430914813]\n",
    "for i in range(0,input.shape[0]):\n",
    "    input[i] = (input[i]-mean[i])/std[i]\n",
    "input = input.T\n",
    "print(input)"
   ]
  },
  {
   "cell_type": "code",
   "execution_count": 3,
   "metadata": {},
   "outputs": [
    {
     "name": "stdout",
     "output_type": "stream",
     "text": [
      "[['4' '6' '23' '42.30540715' '-71.06547135']\n",
      " ['9' '7' '19' '42.30021944' '-71.06311002']\n",
      " ['2' '3' '12' '42.34044966' '-71.08845935']\n",
      " ['5' '4' '20' '42.2330858' '-71.12815697']\n",
      " ['6' '7' '2' '42.34455947' '-71.14890849']\n",
      " ['1' '3' '8' '42.35241815' '-71.06525499']\n",
      " ['3' '5' '3' '42.32866284' '-71.08563401']\n",
      " ['10' '3' '0' '42.32866284' '-71.08563401']\n",
      " ['7' '5' '22' '42.23649723' '-71.12935123']]\n",
      "[2. 2. 2. 1. 2. 2. 2. 2. 1.]\n",
      "<zip object at 0x00000225681B6988>\n"
     ]
    }
   ],
   "source": [
    "# written by Jingfeng Xia, jxia@wpi.edu\n",
    "\n",
    "Y,P = TT.predict(input, W, b)\n",
    "print(raw_input)\n",
    "print(Y)"
   ]
  },
  {
   "cell_type": "code",
   "execution_count": null,
   "metadata": {},
   "outputs": [],
   "source": []
  },
  {
   "cell_type": "code",
   "execution_count": null,
   "metadata": {},
   "outputs": [],
   "source": [
    "!pip install scipy"
   ]
  },
  {
   "cell_type": "code",
   "execution_count": null,
   "metadata": {},
   "outputs": [],
   "source": [
    "import numpy as np\n",
    "import scipy\n",
    "from scipy import stats\n",
    "\n",
    "# a = np.array([0, 2, 2, 1, 0])\n",
    "# print(stats.zscore(a))"
   ]
  },
  {
   "cell_type": "code",
   "execution_count": null,
   "metadata": {},
   "outputs": [],
   "source": [
    "a = np.mat([[1,3,7],[11,-1,5],[7,2,25],[3,8,-35]]).astype(np.float)\n",
    "print(a)\n",
    "a = np.array(a.T)\n",
    "print(a)\n",
    "for i in range(0,a.shape[0]):\n",
    "    a[i] = stats.zscore(a[i])\n",
    "print(a.T)"
   ]
  },
  {
   "cell_type": "code",
   "execution_count": null,
   "metadata": {},
   "outputs": [],
   "source": [
    "lista = [[1,2,3],[4,5,6],[7,8,9],[10,11,12]]\n",
    "\n",
    "lista = [[r[col] for r in lista] for col in range(len(lista[0]))]  \n",
    "print(lista)"
   ]
  },
  {
   "cell_type": "code",
   "execution_count": null,
   "metadata": {},
   "outputs": [],
   "source": [
    "lista=[[1,2,3],[4,5,6],[7,8,9],[10,11,12]]  \n",
    "\n",
    "lista=[[r[col] for r in lista] for col in range(len(lista[0]))]  \n",
    "print(lista)"
   ]
  },
  {
   "cell_type": "code",
   "execution_count": null,
   "metadata": {},
   "outputs": [],
   "source": [
    "import preprocess\n",
    "import LR\n",
    "import train_test as TT\n",
    "import sklearn.model_selection as ms\n",
    "import numpy as np\n",
    "import math"
   ]
  },
  {
   "cell_type": "code",
   "execution_count": null,
   "metadata": {},
   "outputs": [],
   "source": [
    "# get 5000 rows of cleansed data\n",
    "# X feature: MONTH,DAY_OF_WEEK,HOUR,DISTRICT(1:12),LATITUDE-36,LONGTITUDE+78\n",
    "# Y label: DANGER(1,2,3)->low,medium, high\n",
    "(X,Y)= preprocess.split(20000)\n",
    "\n",
    "# get training set and test set\n",
    "train_x, test_x, train_y, test_y = \\\n",
    "    ms.train_test_split(X, Y, test_size=0.2, random_state=5) # training:test = 8:2\n",
    "# print(train_x.shape, test_x.shape, train_y.shape, test_y.shape)"
   ]
  },
  {
   "cell_type": "code",
   "execution_count": null,
   "metadata": {},
   "outputs": [],
   "source": [
    "# alpha, n_epoch can be tuned\n",
    "W,b = TT.train(np.mat(train_x), train_y, alpha=0.01, n_epoch=50)\n",
    "# get W,b for further use\n",
    "print(\"W:\",W)\n",
    "print(\"b:\",b)\n",
    "Y_tr,P_tr = TT.predict(np.mat(train_x), W, b)\n",
    "Y_te,P_te = TT.predict(np.mat(test_x), W, b)"
   ]
  },
  {
   "cell_type": "code",
   "execution_count": null,
   "metadata": {},
   "outputs": [],
   "source": [
    "train_acc = TT.accuracy(train_y,Y_tr)\n",
    "print(\"train accuracy:\",train_acc)\n",
    "test_acc = TT.accuracy(train_y,Y_te)\n",
    "print(\"test accuracy:\",test_acc)"
   ]
  }
 ],
 "metadata": {
  "kernelspec": {
   "display_name": "Python 3",
   "language": "python",
   "name": "python3"
  },
  "language_info": {
   "codemirror_mode": {
    "name": "ipython",
    "version": 3
   },
   "file_extension": ".py",
   "mimetype": "text/x-python",
   "name": "python",
   "nbconvert_exporter": "python",
   "pygments_lexer": "ipython3",
   "version": "3.7.7"
  }
 },
 "nbformat": 4,
 "nbformat_minor": 4
}
